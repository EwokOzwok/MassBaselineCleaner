{
 "cells": [
  {
   "cell_type": "code",
   "execution_count": 2,
   "id": "0f789d17-b132-45ea-9495-93d01b4418f0",
   "metadata": {},
   "outputs": [],
   "source": [
    "from PIL import Image, ImageSequence\n",
    "\n",
    "# Function to concatenate GIFs in sequence\n",
    "def concatenate_gifs_in_sequence(gif_files, output_file):\n",
    "    frames = []\n",
    "    \n",
    "    # Iterate over each GIF file\n",
    "    for gif in gif_files:\n",
    "        with Image.open(gif) as im:\n",
    "            # Append all frames of the current GIF to the frames list\n",
    "            for frame in ImageSequence.Iterator(im):\n",
    "                frames.append(frame.copy())\n",
    "    \n",
    "    # Save all frames as a new GIF\n",
    "    frames[0].save(output_file, save_all=True, append_images=frames[1:], loop=0, duration=100)\n",
    "\n",
    "# List of input GIF files\n",
    "gif_files = [\"Summary1.gif\", \"Summary2.gif\", \"Summary3.gif\", \"Summary4.gif\"]\n",
    "\n",
    "# Output file\n",
    "output_file = \"combined.gif\"\n",
    "\n",
    "# Concatenate GIFs in sequence\n",
    "concatenate_gifs_in_sequence(gif_files, output_file)\n"
   ]
  }
 ],
 "metadata": {
  "kernelspec": {
   "display_name": "Python 3 (ipykernel)",
   "language": "python",
   "name": "python3"
  },
  "language_info": {
   "codemirror_mode": {
    "name": "ipython",
    "version": 3
   },
   "file_extension": ".py",
   "mimetype": "text/x-python",
   "name": "python",
   "nbconvert_exporter": "python",
   "pygments_lexer": "ipython3",
   "version": "3.8.19"
  }
 },
 "nbformat": 4,
 "nbformat_minor": 5
}
